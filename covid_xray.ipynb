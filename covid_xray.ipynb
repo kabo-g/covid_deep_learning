{
 "cells": [
  {
   "cell_type": "code",
   "execution_count": 46,
   "metadata": {},
   "outputs": [],
   "source": [
    "# !pip install pandas numpy seaborn tensorflow keras PIL sklearn "
   ]
  },
  {
   "cell_type": "code",
   "execution_count": null,
   "metadata": {
    "collapsed": true
   },
   "outputs": [],
   "source": [
    "# in case you dont have the below libraries, uncomment and run the above cell to download them"
   ]
  },
  {
   "cell_type": "markdown",
   "metadata": {},
   "source": [
    "# import the libraries"
   ]
  },
  {
   "cell_type": "code",
   "execution_count": 2,
   "metadata": {},
   "outputs": [],
   "source": [
    "\n",
    "import pandas as pd\n",
    "import numpy as np\n",
    "import seaborn as sns\n",
    "import matplotlib.pyplot as plt\n",
    "from tensorflow.keras.models import Sequential\n",
    "from tensorflow.keras.layers import Conv2D, MaxPooling2D, Flatten, Dense, Dropout, Activation\n",
    "from tensorflow.keras.preprocessing import image\n",
    "\n",
    "from tensorflow.keras.preprocessing.image import load_img, img_to_array \n",
    "from tensorflow.keras.models import load_model\n",
    "import PIL\n"
   ]
  },
  {
   "cell_type": "markdown",
   "metadata": {},
   "source": [
    "# data collection"
   ]
  },
  {
   "cell_type": "code",
   "execution_count": 3,
   "metadata": {
    "scrolled": false
   },
   "outputs": [
    {
     "name": "stdout",
     "output_type": "stream",
     "text": [
      "Found 148 images belonging to 2 classes.\n",
      "Found 40 images belonging to 2 classes.\n",
      "Batch shape=(32, 256, 256, 3), min=0.000, max=255.000\n"
     ]
    }
   ],
   "source": [
    "\n",
    "\n",
    "width = 256\n",
    "height = 256\n",
    "\n",
    "datagen = image.ImageDataGenerator()\n",
    "training_data = datagen.flow_from_directory(\"xray_dataset_covid19/train/\",target_size=(width, height), class_mode=\"binary\")\n",
    "testing_data = datagen.flow_from_directory(\"xray_dataset_covid19/test/\",target_size=(width, height), class_mode=\"binary\")\n",
    "\n",
    "\n",
    "\n",
    "batchX, batchy = training_data.next()\n",
    "print('Batch shape=%s, min=%.3f, max=%.3f' % (batchX.shape, batchX.min(), batchX.max()))"
   ]
  },
  {
   "cell_type": "code",
   "execution_count": 4,
   "metadata": {},
   "outputs": [
    {
     "name": "stdout",
     "output_type": "stream",
     "text": [
      "float32\n"
     ]
    }
   ],
   "source": [
    "print(training_data.dtype)"
   ]
  },
  {
   "cell_type": "markdown",
   "metadata": {},
   "source": [
    "## Reset the  variables in case(just a precaution)"
   ]
  },
  {
   "cell_type": "code",
   "execution_count": 5,
   "metadata": {},
   "outputs": [],
   "source": [
    "training_data.reset()\n",
    "testing_data.reset()"
   ]
  },
  {
   "cell_type": "markdown",
   "metadata": {},
   "source": [
    "# build  the model"
   ]
  },
  {
   "cell_type": "code",
   "execution_count": 6,
   "metadata": {},
   "outputs": [],
   "source": [
    "\n",
    "\n",
    "model = Sequential()\n",
    "model.add(Conv2D(32, 3, 3, input_shape = (255, 255, 3)))\n",
    "model.add(Activation(\"relu\"))\n",
    "model.add(MaxPooling2D(pool_size = (2, 2)))\n",
    "\n",
    "model.add(Conv2D(32, 3, 3))\n",
    "model.add(Activation(\"relu\"))\n",
    "model.add(MaxPooling2D(pool_size = (2, 2)))\n",
    "\n",
    "model.add(Conv2D(64, 3, 3))\n",
    "model.add(Activation(\"relu\"))\n",
    "model.add(MaxPooling2D(pool_size = (2, 2)))\n",
    "\n",
    "model.add(Flatten())\n",
    "model.add(Dense(64))\n",
    "model.add(Activation(\"relu\"))\n",
    "model.add(Dropout(0.5))\n",
    "model.add(Dense(1))\n",
    "model.add(Activation(\"sigmoid\"))"
   ]
  },
  {
   "cell_type": "code",
   "execution_count": 8,
   "metadata": {
    "scrolled": true
   },
   "outputs": [
    {
     "name": "stdout",
     "output_type": "stream",
     "text": [
      "Model: \"sequential\"\n",
      "_________________________________________________________________\n",
      "Layer (type)                 Output Shape              Param #   \n",
      "=================================================================\n",
      "conv2d (Conv2D)              (None, 85, 85, 32)        896       \n",
      "_________________________________________________________________\n",
      "activation (Activation)      (None, 85, 85, 32)        0         \n",
      "_________________________________________________________________\n",
      "max_pooling2d (MaxPooling2D) (None, 42, 42, 32)        0         \n",
      "_________________________________________________________________\n",
      "conv2d_1 (Conv2D)            (None, 14, 14, 32)        9248      \n",
      "_________________________________________________________________\n",
      "activation_1 (Activation)    (None, 14, 14, 32)        0         \n",
      "_________________________________________________________________\n",
      "max_pooling2d_1 (MaxPooling2 (None, 7, 7, 32)          0         \n",
      "_________________________________________________________________\n",
      "conv2d_2 (Conv2D)            (None, 2, 2, 64)          18496     \n",
      "_________________________________________________________________\n",
      "activation_2 (Activation)    (None, 2, 2, 64)          0         \n",
      "_________________________________________________________________\n",
      "max_pooling2d_2 (MaxPooling2 (None, 1, 1, 64)          0         \n",
      "_________________________________________________________________\n",
      "flatten (Flatten)            (None, 64)                0         \n",
      "_________________________________________________________________\n",
      "dense (Dense)                (None, 64)                4160      \n",
      "_________________________________________________________________\n",
      "activation_3 (Activation)    (None, 64)                0         \n",
      "_________________________________________________________________\n",
      "dropout (Dropout)            (None, 64)                0         \n",
      "_________________________________________________________________\n",
      "dense_1 (Dense)              (None, 1)                 65        \n",
      "_________________________________________________________________\n",
      "activation_4 (Activation)    (None, 1)                 0         \n",
      "=================================================================\n",
      "Total params: 32,865\n",
      "Trainable params: 32,865\n",
      "Non-trainable params: 0\n",
      "_________________________________________________________________\n"
     ]
    }
   ],
   "source": [
    "model.compile(loss=\"binary_crossentropy\",optimizer=\"rmsprop\",metrics=[\"mse\", \"accuracy\",\"mae\" ])\n",
    "model.summary()"
   ]
  },
  {
   "cell_type": "markdown",
   "metadata": {},
   "source": [
    "# train the model"
   ]
  },
  {
   "cell_type": "code",
   "execution_count": 9,
   "metadata": {
    "scrolled": true
   },
   "outputs": [
    {
     "name": "stdout",
     "output_type": "stream",
     "text": [
      "Epoch 1/10\n",
      "5/5 [==============================] - 6s 560ms/step - loss: 20.5144 - mse: 0.5067 - accuracy: 0.4797 - mae: 0.5188\n",
      "Epoch 2/10\n",
      "5/5 [==============================] - 4s 743ms/step - loss: 4.0179 - mse: 0.4083 - accuracy: 0.5405 - mae: 0.4512\n",
      "Epoch 3/10\n",
      "5/5 [==============================] - 4s 784ms/step - loss: 2.7154 - mse: 0.4169 - accuracy: 0.5541 - mae: 0.4702\n",
      "Epoch 4/10\n",
      "5/5 [==============================] - 4s 698ms/step - loss: 1.6663 - mse: 0.3671 - accuracy: 0.5608 - mae: 0.4409\n",
      "Epoch 5/10\n",
      "5/5 [==============================] - 4s 859ms/step - loss: 1.4384 - mse: 0.3457 - accuracy: 0.5811 - mae: 0.4299\n",
      "Epoch 6/10\n",
      "5/5 [==============================] - 4s 643ms/step - loss: 2.0027 - mse: 0.3826 - accuracy: 0.5473 - mae: 0.4536\n",
      "Epoch 7/10\n",
      "5/5 [==============================] - 4s 843ms/step - loss: 1.1396 - mse: 0.3277 - accuracy: 0.5676 - mae: 0.4320\n",
      "Epoch 8/10\n",
      "5/5 [==============================] - 4s 604ms/step - loss: 1.0416 - mse: 0.2990 - accuracy: 0.5878 - mae: 0.4208\n",
      "Epoch 9/10\n",
      "5/5 [==============================] - 4s 843ms/step - loss: 1.1239 - mse: 0.3385 - accuracy: 0.5270 - mae: 0.4653\n",
      "Epoch 10/10\n",
      "5/5 [==============================] - 4s 816ms/step - loss: 0.8232 - mse: 0.2719 - accuracy: 0.5676 - mae: 0.4197\n"
     ]
    }
   ],
   "source": [
    "\n",
    "\n",
    "model.fit(training_data, epochs = 10, batch_size=30)\n",
    "cnn = model.save_weights(\"simplecnn.h5\")"
   ]
  },
  {
   "cell_type": "markdown",
   "metadata": {},
   "source": [
    "# Evaluate perfomance of the model"
   ]
  },
  {
   "cell_type": "code",
   "execution_count": 7,
   "metadata": {
    "scrolled": true
   },
   "outputs": [
    {
     "name": "stdout",
     "output_type": "stream",
     "text": [
      "2/2 [==============================] - 0s 86ms/step - loss: 0.2494 - mse: 0.0697 - accuracy: 0.9500 - mae: 0.1956\n"
     ]
    },
    {
     "data": {
      "text/plain": [
       "[0.24938416481018066,\n",
       " 0.06967302411794662,\n",
       " 0.949999988079071,\n",
       " 0.19562752544879913]"
      ]
     },
     "execution_count": 7,
     "metadata": {},
     "output_type": "execute_result"
    }
   ],
   "source": [
    "model.evaluate(testing_data)"
   ]
  },
  {
   "cell_type": "markdown",
   "metadata": {},
   "source": [
    "# Testing with random data"
   ]
  },
  {
   "cell_type": "code",
   "execution_count": 10,
   "metadata": {},
   "outputs": [
    {
     "name": "stdout",
     "output_type": "stream",
     "text": [
      "Postive for Covid19 \n"
     ]
    }
   ],
   "source": [
    "img = load_img(\"xray_dataset_covid19/test/PNEUMONIA/SARS-10.1148rg.242035193-g04mr34g0-Fig8a-day0.jpeg\",\n",
    "              target_size=(255, 255))\n",
    "\n",
    "img = img.resize((255,255))\n",
    "img = img_to_array(img)\n",
    "img = img.reshape( (1, 255, 255, 3))\n",
    "img.shape\n",
    "\n",
    "\n",
    "prediction = model.predict(img)\n",
    "\n",
    "\n",
    "if prediction >= 0.5:\n",
    "    print(\"Postive for Covid19 \")\n",
    "else:\n",
    "    print(\"Good news, you have tested negative\")"
   ]
  }
 ],
 "metadata": {
  "kernelspec": {
   "display_name": "Python 3",
   "language": "python",
   "name": "python3"
  },
  "language_info": {
   "codemirror_mode": {
    "name": "ipython",
    "version": 3
   },
   "file_extension": ".py",
   "mimetype": "text/x-python",
   "name": "python",
   "nbconvert_exporter": "python",
   "pygments_lexer": "ipython3",
   "version": "3.9.2"
  }
 },
 "nbformat": 4,
 "nbformat_minor": 4
}
